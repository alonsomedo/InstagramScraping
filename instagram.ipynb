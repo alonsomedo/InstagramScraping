{
 "cells": [
  {
   "cell_type": "markdown",
   "metadata": {},
   "source": [
    "#### IMPORTAMOS LIBRERIAS"
   ]
  },
  {
   "cell_type": "code",
   "execution_count": null,
   "metadata": {},
   "outputs": [],
   "source": [
    "from selenium import webdriver\n",
    "from selenium.webdriver.common.by import By\n",
    "from selenium.webdriver.support.ui import WebDriverWait\n",
    "from selenium.webdriver.support import expected_conditions as EC\n",
    "from selenium.webdriver.chrome.options import Options\n",
    "from selenium.webdriver.common.keys import Keys\n",
    "import random\n",
    "from time import sleep\n",
    "import pandas as pd"
   ]
  },
  {
   "cell_type": "markdown",
   "metadata": {},
   "source": [
    "#### FUNCION PARA OBTENER CREDENCIALES"
   ]
  },
  {
   "cell_type": "code",
   "execution_count": null,
   "metadata": {},
   "outputs": [],
   "source": [
    "def get_credentials():\n",
    "    credentials = open('credentials.txt').readline().strip().split(',')\n",
    "    user = credentials[0]\n",
    "    password = credentials[1]\n",
    "    \n",
    "    return user, password"
   ]
  },
  {
   "cell_type": "markdown",
   "metadata": {},
   "source": [
    "#### CREAMOS EL DRIVER"
   ]
  },
  {
   "cell_type": "code",
   "execution_count": null,
   "metadata": {},
   "outputs": [],
   "source": [
    "\n",
    "def get_driver():\n",
    "    options = Options()\n",
    "    #options.add_argument(\n",
    "    #    \"user-agent=Mozilla/5.0 (X11; Linux x86_64) AppleWebKit/537.36 (KHTML, like Gecko) Ubuntu Chromium/71.0.3578.80 Chrome/71.0.3578.80 Safari/537.36\"\n",
    "    #)\n",
    "    options.add_argument(\"--disable-notifications\")\n",
    "    options.add_argument(\"--headles\")\n",
    "    options.add_argument(\"--disable-gpu\")\n",
    "    options.add_argument(\"--disable-software-rasterizer\")\n",
    "    options.add_argument('--log-level=3')\n",
    "    options.add_argument(\"--lang=es-ES\")\n",
    "\n",
    "    options.add_experimental_option('excludeSwitches', ['enable-logging'])\n",
    "\n",
    "\n",
    "    driver = webdriver.Chrome('./chromedriver.exe', options = options)\n",
    "    driver.maximize_window()\n",
    "    driver.get('https://www.instagram.com/')\n",
    "    \n",
    "    \n",
    "    sleep(random.uniform(3,4)) \n",
    "\n",
    "    return driver"
   ]
  },
  {
   "cell_type": "markdown",
   "metadata": {},
   "source": [
    "#### FUNCIONES PRINCIPALES PARA SCRAPEAR"
   ]
  },
  {
   "cell_type": "code",
   "execution_count": null,
   "metadata": {},
   "outputs": [],
   "source": [
    "def cleaning_text(text):\n",
    "    clean_text = text.replace('\\n', ' ').replace('\\r', ' ').replace('\\t',' ').replace(',','').replace('~','').strip()\n",
    "    return clean_text\n",
    "\n",
    "\n",
    "def logging_instagram(driver):\n",
    "    username, password = get_credentials()\n",
    "    username_input = WebDriverWait(driver, 10).until(   \n",
    "            EC.presence_of_element_located((By.XPATH, '//input[@name=\"username\"]'))\n",
    "        )\n",
    "    password_input =  WebDriverWait(driver, 10).until(   \n",
    "            EC.presence_of_element_located((By.XPATH, '//input[@name=\"password\"]'))\n",
    "        )\n",
    "    username_input.send_keys(username)\n",
    "    password_input.send_keys(password)\n",
    "\n",
    "    sleep(random.uniform(2,3)) \n",
    "\n",
    "    button = WebDriverWait(driver, 10).until(   \n",
    "            EC.presence_of_element_located((By.XPATH, '//button[@type=\"submit\"]'))\n",
    "        )\n",
    "    button.click()\n",
    "\n",
    "    sleep(random.uniform(2,3))\n",
    "\n",
    "\n",
    "def search_instagram(driver, HASHTAG):\n",
    "    search_input =  WebDriverWait(driver, 10).until(   \n",
    "            EC.presence_of_element_located((By.XPATH, '//input[@placeholder=\"Busca\"]'))\n",
    "        )\n",
    "    search_input.send_keys(HASHTAG)\n",
    "\n",
    "    sleep(random.uniform(2,3))\n",
    "\n",
    "    search_link = WebDriverWait(driver, 10).until(   \n",
    "            EC.presence_of_element_located((By.XPATH, f'//a[@href=\"/explore/tags/{HASHTAG.replace(\"#\", \"\")}/\"]'))\n",
    "        )\n",
    "    search_link.click()\n",
    "\n",
    "    sleep(random.uniform(4,5))\n",
    "\n",
    "\n",
    "def scraping_instagram(driver, debug_print=False):\n",
    "    \"\"\"\n",
    "    driver: selenium driver\n",
    "    debug_print: allows printing exception\n",
    "    \"\"\"\n",
    "    data = []\n",
    "\n",
    "    # Scrolling\n",
    "    for i in range(3):\n",
    "        driver.execute_script(\"window.scrollTo(0, document.body.scrollHeight);\")\n",
    "        sleep(random.uniform(2,3))\n",
    "    \n",
    "    posts = driver.find_elements(By.XPATH, '//article//a')\n",
    "\n",
    "    print(f\"Estimated time to end: {len(posts)*4} seconds\")\n",
    "\n",
    "    for post in posts:\n",
    "        try:\n",
    "            driver.execute_script(\"arguments[0].click();\",post) \n",
    "        \n",
    "            user = WebDriverWait(driver, 3).until(EC.presence_of_element_located((By.XPATH, '//article[@role=\"presentation\"]//h2//a'))).text\n",
    "            description = cleaning_text(driver.find_element(By.XPATH, '//article[@role=\"presentation\"]//h2/following-sibling::span').text)\n",
    "            href = post.get_attribute('href')\n",
    "\n",
    "            try:\n",
    "                hashtags = driver.find_elements(By.XPATH, '//article[@role=\"presentation\"]//h2/following-sibling::span/a[@class != \"notranslate\"]')\n",
    "                hashtags = [cleaning_text(h.text) for h in hashtags]\n",
    "            except Exception as e:\n",
    "                if debug_print: print(f'***** HASTAG {href} *****', e)\n",
    "                hashtags = []\n",
    "            \n",
    "            try:\n",
    "                labels = driver.find_elements(By.XPATH, '//article[@role=\"presentation\"]//h2/following-sibling::span/a[@class=\"notranslate\"]')\n",
    "                labels = [cleaning_text(l.text) for l in labels]\n",
    "            except Exception as e: \n",
    "                if debug_print: print(f'***** LABELS {href} *****', e)\n",
    "                labels= []\n",
    "\n",
    "            try:\n",
    "                likes = driver.find_element(By.XPATH, '//article[@role=\"presentation\"]//a[@class=\"zV_Nj\"]/span').text\n",
    "            except Exception as e:\n",
    "                if debug_print: print(f'***** LIKES {href} *****', e)\n",
    "                likes = 0\n",
    "\n",
    "            data.append({\n",
    "                \"post_link\": href,\n",
    "                \"user\": user,\n",
    "                \"likes\": likes,\n",
    "                \"labels\":labels,\n",
    "                \"hashtag\":hashtags,\n",
    "                \"description\": description\n",
    "            })\n",
    "\n",
    "            # We use driver here, because post is limited to their scope 'a'\n",
    "            close_button = WebDriverWait(driver, 10).until(   \n",
    "                EC.presence_of_element_located((By.XPATH, '//div[@class=\"NOTWr\"]/button'))\n",
    "            )\n",
    "            sleep(random.uniform(0.3,1.2))\n",
    "            close_button.click()\n",
    "\n",
    "        except Exception as e:\n",
    "            if debug_print: print(f'***** POST {href}  *****', e)\n",
    "            continue\n",
    "        \n",
    "    df = pd.DataFrame(data)\n",
    "    return df\n",
    "\n",
    "def save_dataframe_to_csv(df):\n",
    "    df.to_csv(r'data.csv', header=True, index=True, sep='~')"
   ]
  },
  {
   "cell_type": "markdown",
   "metadata": {},
   "source": [
    "#### FUNCION TRIGGER QUE LANZA EL PROCESO"
   ]
  },
  {
   "cell_type": "code",
   "execution_count": null,
   "metadata": {},
   "outputs": [],
   "source": [
    "def run_scraping_process(HASHTAG = '#peru'):\n",
    "    driver = get_driver()\n",
    "    logging_instagram(driver)\n",
    "    search_instagram(driver, HASHTAG)\n",
    "    df = scraping_instagram(driver)\n",
    "    save_dataframe_to_csv(df)\n",
    "    return df"
   ]
  },
  {
   "cell_type": "code",
   "execution_count": null,
   "metadata": {},
   "outputs": [],
   "source": [
    "HASHTAG = '#cuzco'\n",
    "data = run_scraping_process(HASHTAG)\n",
    "data"
   ]
  }
 ],
 "metadata": {
  "interpreter": {
   "hash": "ffcbc283b5f7dd81dceb2aa54265f5f4a15fe7a55b326540074502a25825b597"
  },
  "kernelspec": {
   "display_name": "Python 3.9.5 64-bit ('env': venv)",
   "language": "python",
   "name": "python3"
  },
  "language_info": {
   "codemirror_mode": {
    "name": "ipython",
    "version": 3
   },
   "file_extension": ".py",
   "mimetype": "text/x-python",
   "name": "python",
   "nbconvert_exporter": "python",
   "pygments_lexer": "ipython3",
   "version": "3.9.5"
  },
  "orig_nbformat": 4
 },
 "nbformat": 4,
 "nbformat_minor": 2
}
